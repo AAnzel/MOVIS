{
 "cells": [
  {
   "cell_type": "code",
   "execution_count": 1,
   "id": "static-blond",
   "metadata": {},
   "outputs": [],
   "source": [
    "import pandas as pd\n",
    "import numpy as np\n",
    "import altair as alt\n",
    "import os\n",
    "from Bio import SeqIO\n",
    "from Bio.SeqUtils.ProtParam import ProteinAnalysis\n"
   ]
  },
  {
   "cell_type": "code",
   "execution_count": 2,
   "id": "manufactured-button",
   "metadata": {},
   "outputs": [],
   "source": [
    "path_root_data = os.path.join ('..', 'Data', 'Extracted', 'Databases')\n",
    "path_all_fasta = os.path.join (path_root_data, 'fasta_files', 'AllBins')\n",
    "\n"
   ]
  },
  {
   "cell_type": "code",
   "execution_count": 14,
   "id": "hollow-lecture",
   "metadata": {},
   "outputs": [],
   "source": [
    "# There are 1364 MAGs enclosed in FASTA files\n",
    "# I have to traverse every FASTA file end in each file every sequence\n",
    "\n",
    "list_of_series = []\n",
    "\n",
    "fasta_files = [i for i in os.listdir(path_all_fasta) if (i[-2:] == 'fa')]\n",
    "\n",
    "for fasta_file_name in fasta_files:\n",
    "    with open(os.path.join(path_all_fasta, fasta_file_name), 'r') as input_file:\n",
    "        #identifiers = []\n",
    "        #lengths = []\n",
    "        sequence = []\n",
    "        for fasta_string in SeqIO.parse(input_file, \"fasta\"):\n",
    "            #identifiers.append(seq_record.id)\n",
    "            #lengths.append(len(seq_record.seq))\n",
    "            sequence.append(str(fasta_string.seq))\n",
    "        \n",
    "        list_of_series.append(pd.Series(sequence))\n"
   ]
  },
  {
   "cell_type": "code",
   "execution_count": 20,
   "id": "absolute-default",
   "metadata": {},
   "outputs": [
    {
     "data": {
      "text/plain": [
       "0      AAAGCGGAACCCGTTGGCGGCAATGGTGGCACTTTCCATGTCCAGG...\n",
       "1      ACGCCCCATGCATCGCCTGCGTCAAGCTGCCTTGTTGTTGATTTCG...\n",
       "2      AAAGGCGCAGCCAGTCGCACAAACGCCAATAACCAATGAAATCCCC...\n",
       "3      ATGACGCTCGTCGTCGACGGCTACAACAACGATCCACGCGAGCTGG...\n",
       "4      AAGAGGTCAACATGTACGCGGTCATAAAAACCGGCGGCAAGCAGTA...\n",
       "                             ...                        \n",
       "321    GACGTTGAGTCGCCTCATTTACTACAGCTGACGTTCGGTGAGCGTA...\n",
       "322    CGCATCAGCTCATAGCGGTCCATGGTCAGAGAGTCGCTGGCGCTAG...\n",
       "323    AACCCGGTAACGCCCAGCAGGCCCAAGCCCACCACCAGCATGCCGG...\n",
       "324    CCACCACGCGCGCCACCAGCGGGTGGCGCACGATATCCAAGCTGGT...\n",
       "325    GGTCGTGGACGTCATGGTCTTCGCGATCTCGTATTCAGCTCACATC...\n",
       "Length: 326, dtype: object"
      ]
     },
     "execution_count": 20,
     "metadata": {},
     "output_type": "execute_result"
    }
   ],
   "source": [
    "# Memory usage after this is ~ 4.5GB\n",
    "list_of_series[0]"
   ]
  },
  {
   "cell_type": "code",
   "execution_count": null,
   "id": "protected-orlando",
   "metadata": {},
   "outputs": [],
   "source": []
  },
  {
   "cell_type": "code",
   "execution_count": null,
   "id": "sticky-virgin",
   "metadata": {},
   "outputs": [],
   "source": []
  },
  {
   "cell_type": "code",
   "execution_count": null,
   "id": "certified-puzzle",
   "metadata": {},
   "outputs": [],
   "source": []
  },
  {
   "cell_type": "code",
   "execution_count": null,
   "id": "configured-cassette",
   "metadata": {},
   "outputs": [],
   "source": []
  },
  {
   "cell_type": "code",
   "execution_count": null,
   "id": "pointed-blink",
   "metadata": {},
   "outputs": [],
   "source": []
  },
  {
   "cell_type": "code",
   "execution_count": null,
   "id": "excessive-static",
   "metadata": {},
   "outputs": [],
   "source": []
  },
  {
   "cell_type": "code",
   "execution_count": null,
   "id": "ultimate-stand",
   "metadata": {},
   "outputs": [],
   "source": []
  },
  {
   "cell_type": "code",
   "execution_count": null,
   "id": "dynamic-squad",
   "metadata": {},
   "outputs": [],
   "source": []
  }
 ],
 "metadata": {
  "kernelspec": {
   "display_name": "Python 3",
   "language": "python",
   "name": "python3"
  },
  "language_info": {
   "codemirror_mode": {
    "name": "ipython",
    "version": 3
   },
   "file_extension": ".py",
   "mimetype": "text/x-python",
   "name": "python",
   "nbconvert_exporter": "python",
   "pygments_lexer": "ipython3",
   "version": "3.8.5"
  }
 },
 "nbformat": 4,
 "nbformat_minor": 5
}
