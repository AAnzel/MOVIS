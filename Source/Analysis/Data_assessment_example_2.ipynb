{
 "cells": [
  {
   "cell_type": "code",
   "execution_count": 1,
   "id": "14d1a877-8dba-4b3f-a07e-be22aec66b2d",
   "metadata": {},
   "outputs": [],
   "source": [
    "import pandas as pd\n",
    "import numpy as np\n",
    "import altair as alt\n",
    "import os, random, math\n",
    "import gensim\n",
    "import datetime as dt\n",
    "import altair_saver\n",
    "from Bio import SeqIO\n",
    "from Bio.SeqUtils.ProtParam import ProteinAnalysis\n",
    "from gensim.models import Word2Vec\n",
    "from sklearn.cluster import KMeans, OPTICS\n",
    "from sklearn.decomposition import PCA\n",
    "from sklearn.manifold import MDS\n",
    "from sklearn import preprocessing, model_selection, metrics\n",
    "from scipy.spatial.distance import jaccard, pdist, squareform\n"
   ]
  },
  {
   "cell_type": "code",
   "execution_count": null,
   "id": "76b22dfe-38d0-48fb-9ebc-9ff2a3e1e306",
   "metadata": {},
   "outputs": [],
   "source": [
    "path_root_data = os.path.join ('..', 'Data', 'Extracted', 'First source', 'Databases')\n",
    "\n",
    "path_all_fasta = os.path.join (path_root_data, 'fasta_files', 'AllBins')\n",
    "path_genomics_78 = os.path.join (path_root_data, 'fasta_files', 'rmags_filtered')\n",
    "path_genomics_kegg = os.path.join (path_root_data, 'Annotations', 'KEGG')\n",
    "path_normalised_metabolomics = os.path.join (path_root_data, 'Metabolomics', 'Normalised_Tables')\n",
    "path_proteomics_78 = os.path.join (path_root_data, 'Proteomics', 'set_of_78')\n",
    "path_physico_chemical = os.path.join (path_root_data, 'PhysicoChemical')\n",
    "\n",
    "path_second_source = os.path.join ('..', 'Data', 'Extracted', 'Second source')\n",
    "\n",
    "\n",
    "path_model_save_root = 'Saved_models'\n",
    "path_figures_save_root = 'Output_figures'\n"
   ]
  }
 ],
 "metadata": {
  "kernelspec": {
   "display_name": "Python 3",
   "language": "python",
   "name": "python3"
  },
  "language_info": {
   "codemirror_mode": {
    "name": "ipython",
    "version": 3
   },
   "file_extension": ".py",
   "mimetype": "text/x-python",
   "name": "python",
   "nbconvert_exporter": "python",
   "pygments_lexer": "ipython3",
   "version": "3.8.10"
  }
 },
 "nbformat": 4,
 "nbformat_minor": 5
}
